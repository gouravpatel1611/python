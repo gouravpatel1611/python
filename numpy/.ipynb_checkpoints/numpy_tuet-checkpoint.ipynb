{
 "cells": [
  {
   "cell_type": "markdown",
   "id": "06caca79",
   "metadata": {},
   "source": [
    "# welcome to numpy "
   ]
  },
  {
   "cell_type": "code",
   "execution_count": 4,
   "id": "f378b437",
   "metadata": {},
   "outputs": [],
   "source": [
    "import numpy as np"
   ]
  },
  {
   "cell_type": "code",
   "execution_count": 8,
   "id": "cceae9ca",
   "metadata": {},
   "outputs": [],
   "source": [
    "myarr = np.array([[3,5,8,6,4,8,9,6,5]])"
   ]
  },
  {
   "cell_type": "code",
   "execution_count": 10,
   "id": "9cf334d1",
   "metadata": {},
   "outputs": [
    {
     "data": {
      "text/plain": [
       "5"
      ]
     },
     "execution_count": 10,
     "metadata": {},
     "output_type": "execute_result"
    }
   ],
   "source": [
    "myarr[0,1]"
   ]
  },
  {
   "cell_type": "raw",
   "id": "7748d846",
   "metadata": {},
   "source": []
  },
  {
   "cell_type": "code",
   "execution_count": null,
   "id": "b6225edb",
   "metadata": {},
   "outputs": [],
   "source": []
  },
  {
   "cell_type": "code",
   "execution_count": null,
   "id": "f610f19d",
   "metadata": {},
   "outputs": [],
   "source": []
  }
 ],
 "metadata": {
  "kernelspec": {
   "display_name": "Python 3 (ipykernel)",
   "language": "python",
   "name": "python3"
  },
  "language_info": {
   "codemirror_mode": {
    "name": "ipython",
    "version": 3
   },
   "file_extension": ".py",
   "mimetype": "text/x-python",
   "name": "python",
   "nbconvert_exporter": "python",
   "pygments_lexer": "ipython3",
   "version": "3.8.5"
  }
 },
 "nbformat": 4,
 "nbformat_minor": 5
}
