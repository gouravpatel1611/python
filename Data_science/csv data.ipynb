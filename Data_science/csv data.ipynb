{
 "cells": [
  {
   "cell_type": "code",
   "execution_count": 1,
   "id": "0c968387",
   "metadata": {},
   "outputs": [],
   "source": [
    "import pandas as pd\n"
   ]
  },
  {
   "cell_type": "code",
   "execution_count": 2,
   "id": "fc473059",
   "metadata": {},
   "outputs": [],
   "source": [
    "df = pd.read_csv('data.csv')"
   ]
  },
  {
   "cell_type": "code",
   "execution_count": 4,
   "id": "00c04db5",
   "metadata": {},
   "outputs": [
    {
     "data": {
      "text/html": [
       "<div>\n",
       "<style scoped>\n",
       "    .dataframe tbody tr th:only-of-type {\n",
       "        vertical-align: middle;\n",
       "    }\n",
       "\n",
       "    .dataframe tbody tr th {\n",
       "        vertical-align: top;\n",
       "    }\n",
       "\n",
       "    .dataframe thead th {\n",
       "        text-align: right;\n",
       "    }\n",
       "</style>\n",
       "<table border=\"1\" class=\"dataframe\">\n",
       "  <thead>\n",
       "    <tr style=\"text-align: right;\">\n",
       "      <th></th>\n",
       "      <th>Date</th>\n",
       "      <th>Open</th>\n",
       "      <th>High</th>\n",
       "      <th>Low</th>\n",
       "      <th>Close</th>\n",
       "      <th>Adj Close</th>\n",
       "      <th>Volume</th>\n",
       "    </tr>\n",
       "  </thead>\n",
       "  <tbody>\n",
       "    <tr>\n",
       "      <th>0</th>\n",
       "      <td>19-03-21</td>\n",
       "      <td>14471.15039</td>\n",
       "      <td>14788.25000</td>\n",
       "      <td>14350.09961</td>\n",
       "      <td>14744.00000</td>\n",
       "      <td>14744.00000</td>\n",
       "      <td>919200</td>\n",
       "    </tr>\n",
       "    <tr>\n",
       "      <th>1</th>\n",
       "      <td>22-03-21</td>\n",
       "      <td>14736.29981</td>\n",
       "      <td>14763.90039</td>\n",
       "      <td>14597.84961</td>\n",
       "      <td>14736.40039</td>\n",
       "      <td>14736.40039</td>\n",
       "      <td>459000</td>\n",
       "    </tr>\n",
       "    <tr>\n",
       "      <th>2</th>\n",
       "      <td>23-03-21</td>\n",
       "      <td>14768.54981</td>\n",
       "      <td>14878.59961</td>\n",
       "      <td>14707.00000</td>\n",
       "      <td>14814.75000</td>\n",
       "      <td>14814.75000</td>\n",
       "      <td>474200</td>\n",
       "    </tr>\n",
       "    <tr>\n",
       "      <th>3</th>\n",
       "      <td>24-03-21</td>\n",
       "      <td>14712.45020</td>\n",
       "      <td>14752.34961</td>\n",
       "      <td>14535.00000</td>\n",
       "      <td>14549.40039</td>\n",
       "      <td>14549.40039</td>\n",
       "      <td>456400</td>\n",
       "    </tr>\n",
       "    <tr>\n",
       "      <th>4</th>\n",
       "      <td>25-03-21</td>\n",
       "      <td>14570.90039</td>\n",
       "      <td>14575.59961</td>\n",
       "      <td>14264.40039</td>\n",
       "      <td>14324.90039</td>\n",
       "      <td>14324.90039</td>\n",
       "      <td>606800</td>\n",
       "    </tr>\n",
       "  </tbody>\n",
       "</table>\n",
       "</div>"
      ],
      "text/plain": [
       "       Date         Open         High          Low        Close    Adj Close  \\\n",
       "0  19-03-21  14471.15039  14788.25000  14350.09961  14744.00000  14744.00000   \n",
       "1  22-03-21  14736.29981  14763.90039  14597.84961  14736.40039  14736.40039   \n",
       "2  23-03-21  14768.54981  14878.59961  14707.00000  14814.75000  14814.75000   \n",
       "3  24-03-21  14712.45020  14752.34961  14535.00000  14549.40039  14549.40039   \n",
       "4  25-03-21  14570.90039  14575.59961  14264.40039  14324.90039  14324.90039   \n",
       "\n",
       "   Volume  \n",
       "0  919200  \n",
       "1  459000  \n",
       "2  474200  \n",
       "3  456400  \n",
       "4  606800  "
      ]
     },
     "execution_count": 4,
     "metadata": {},
     "output_type": "execute_result"
    }
   ],
   "source": [
    "df.head()\n"
   ]
  },
  {
   "cell_type": "code",
   "execution_count": 14,
   "id": "77fa0325",
   "metadata": {},
   "outputs": [
    {
     "name": "stdout",
     "output_type": "stream",
     "text": [
      "int64\n"
     ]
    }
   ],
   "source": [
    "print(df['Volume'].dtype)"
   ]
  },
  {
   "cell_type": "code",
   "execution_count": 17,
   "id": "a2a42022",
   "metadata": {},
   "outputs": [],
   "source": [
    "# export csv files\n",
    "\n",
    "df.head(10).to_csv('export.csv', index=False)"
   ]
  },
  {
   "cell_type": "code",
   "execution_count": null,
   "id": "1cd14aa9",
   "metadata": {},
   "outputs": [],
   "source": []
  }
 ],
 "metadata": {
  "kernelspec": {
   "display_name": "Python 3 (ipykernel)",
   "language": "python",
   "name": "python3"
  },
  "language_info": {
   "codemirror_mode": {
    "name": "ipython",
    "version": 3
   },
   "file_extension": ".py",
   "mimetype": "text/x-python",
   "name": "python",
   "nbconvert_exporter": "python",
   "pygments_lexer": "ipython3",
   "version": "3.8.5"
  }
 },
 "nbformat": 4,
 "nbformat_minor": 5
}
